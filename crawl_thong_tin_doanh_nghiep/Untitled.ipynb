{
 "cells": [
  {
   "cell_type": "code",
   "execution_count": 8,
   "metadata": {},
   "outputs": [],
   "source": [
    "import sys\n",
    "import os\n",
    "from selenium import webdriver\n",
    "from selenium.webdriver.common.keys import Keys\n",
    "\n",
    "import pandas as pd\n",
    "import time\n",
    "from bs4 import BeautifulSoup"
   ]
  },
  {
   "cell_type": "code",
   "execution_count": 21,
   "metadata": {},
   "outputs": [],
   "source": [
    "list_msdn = pd.read_excel('thong_tin_doanh_nghiep.xlsx', sheet_name='Sheet1')\n",
    "list_msdn = list(list_msdn['ma_dn'].apply(lambda x: x.replace('a', '')))"
   ]
  },
  {
   "cell_type": "code",
   "execution_count": 23,
   "metadata": {},
   "outputs": [
    {
     "data": {
      "text/plain": [
       "['0106451796',\n",
       " '0101172083',\n",
       " '0200170658',\n",
       " '0105866879',\n",
       " '0101619639',\n",
       " '2802576835',\n",
       " '0101533910',\n",
       " '0102278413',\n",
       " '0107191029',\n",
       " '0102233518',\n",
       " '0106272518',\n",
       " '0101248286',\n",
       " '0200827245',\n",
       " '0102708698',\n",
       " '0106635024',\n",
       " '0106063024',\n",
       " '0101643536',\n",
       " '0102173280',\n",
       " '2300534285',\n",
       " '0103672941',\n",
       " '0102844676',\n",
       " '0101981743',\n",
       " '0106107419',\n",
       " '0105259627',\n",
       " '0105328260',\n",
       " '0102853208',\n",
       " '0105875143',\n",
       " '0101687420',\n",
       " '0103402896',\n",
       " '0101479808',\n",
       " '0102191963',\n",
       " '0105001988',\n",
       " '0106166492',\n",
       " '0105945390',\n",
       " '0101081277',\n",
       " '0105687950',\n",
       " '0108005116',\n",
       " '0500505746',\n",
       " '4601512779',\n",
       " '2802299500',\n",
       " '0500237543',\n",
       " '0106923375',\n",
       " '0103393793',\n",
       " '0106687840',\n",
       " '0106322705',\n",
       " '4600395075',\n",
       " '0106572744',\n",
       " '0106783008',\n",
       " '0105365216',\n",
       " '0102635961',\n",
       " '0107532529',\n",
       " '0104953487',\n",
       " '0106078341',\n",
       " '0104317139',\n",
       " '0305116489',\n",
       " '0101781159',\n",
       " '0106043638',\n",
       " '0105759820',\n",
       " '0102684447',\n",
       " '0105230106',\n",
       " '0107096600',\n",
       " '0107349393',\n",
       " '0106809344',\n",
       " '0106563002',\n",
       " '0101876361',\n",
       " '0800816478',\n",
       " '0105523920']"
      ]
     },
     "execution_count": 23,
     "metadata": {},
     "output_type": "execute_result"
    }
   ],
   "source": [
    "list_msdn"
   ]
  },
  {
   "cell_type": "code",
   "execution_count": 10,
   "metadata": {},
   "outputs": [],
   "source": [
    "url = 'https://dichvuthongtin.dkkd.gov.vn/inf/Forms/Products/ProductCatalog.aspx?h=d2d4'"
   ]
  },
  {
   "cell_type": "code",
   "execution_count": 13,
   "metadata": {},
   "outputs": [],
   "source": [
    "browser = webdriver.Chrome(os.getcwd() + '/chromedriver')\n",
    "browser.get(url)"
   ]
  },
  {
   "cell_type": "code",
   "execution_count": 113,
   "metadata": {},
   "outputs": [],
   "source": [
    "vai_tro_ca_nhan = browser.find_element_by_xpath('/html/body/form/div[3]/div[2]/div[2]/div[1]/div[2]/div/div[1]/div[4]/div[2]/div/ul/li[3]/a')"
   ]
  },
  {
   "cell_type": "code",
   "execution_count": 114,
   "metadata": {},
   "outputs": [],
   "source": [
    "vai_tro_ca_nhan.click()"
   ]
  },
  {
   "cell_type": "code",
   "execution_count": 120,
   "metadata": {},
   "outputs": [
    {
     "data": {
      "text/plain": [
       "'\\n                <td>\\n                    <p class=\"wwRowFilter\">\\n                        <label class=\"wwLabel\" id=\"ENTERPRISE_CODEFilterFld\"><span id=\"LblFilterP_SE_009_VW__ENTERPRISE_CODE\" class=\"lbledit\">Mã số doanh nghiệp</span>:</label><input name=\"ctl10$C$UC_PERS_LIST1$ENTERPRISE_CODEFilterFld\" type=\"text\" maxlength=\"100\" id=\"ctl00_C_UC_PERS_LIST1_ENTERPRISE_CODEFilterFld\"><input tabindex=\"-1\" type=\"image\" name=\"h\" class=\"infoButton\" border=\"0\" src=\"/inf/Img/question.gif\" onclick=\"openHelpBox(\\'%2finf%2fForms%2fProducts%2fProductCatalog.aspx%3fctl00%24C%24UC_PERS_LIST1%24ENTERPRISE_CODEFilterFld\\', \\'/inf\\');return false;\" style=\"border-width:0px;\">\\n                    </p>\\n                </td>\\n                <td>\\n                    <p class=\"wwRowFilter\">\\n                        <label class=\"wwLabel\" id=\"ENTERPRISE_NAME_IDXFilterFld\"><span id=\"LblFilterP_SE_009_VW__ENTERPRISE_NAME_IDX\" class=\"lbledit\">Tên doanh nghiệp</span>:</label><input name=\"ctl00$C$UC_PERS_LIST1$ENTERPRISE_NAME_IDXFilterFld\" type=\"text\" maxlength=\"1000\" id=\"ctl00_C_UC_PERS_LIST1_ENTERPRISE_NAME_IDXFilterFld\"><input tabindex=\"-1\" type=\"image\" name=\"h\" class=\"infoButton\" border=\"0\" src=\"/inf/Img/question.gif\" onclick=\"openHelpBox(\\'%2finf%2fForms%2fProducts%2fProductCatalog.aspx%3fctl00%24C%24UC_PERS_LIST1%24ENTERPRISE_NAME_IDXFilterFld\\', \\'/inf\\');return false;\" style=\"border-width:0px;\">\\n                    </p>\\n                </td>\\n            '"
      ]
     },
     "execution_count": 120,
     "metadata": {},
     "output_type": "execute_result"
    }
   ],
   "source": [
    "# input msdn\n",
    "# msdn_input = browser.find_elements_by_id('ctl00_C_UC_PERS_LIST1_ENTERPRISE_CODEFilterFld')\n",
    "# msdn_input\n",
    "\n"
   ]
  },
  {
   "cell_type": "code",
   "execution_count": 23,
   "metadata": {},
   "outputs": [],
   "source": [
    "msdn = list_msdn[0]\n",
    "msdn_input[0].send_keys(msdn)"
   ]
  },
  {
   "cell_type": "code",
   "execution_count": 24,
   "metadata": {},
   "outputs": [
    {
     "data": {
      "text/plain": [
       "[<selenium.webdriver.remote.webelement.WebElement (session=\"6d1c5826868c732198e0e49af3f560bf\", element=\"05f3a2d0-f518-48ef-ae10-a74b387d7ea9\")>]"
      ]
     },
     "execution_count": 24,
     "metadata": {},
     "output_type": "execute_result"
    }
   ],
   "source": [
    "search_btn = browser.find_elements_by_id('ctl00_C_UC_PERS_LIST1_BtnFilter')\n",
    "search_btn"
   ]
  },
  {
   "cell_type": "code",
   "execution_count": 25,
   "metadata": {},
   "outputs": [],
   "source": [
    "search_btn[0].click()"
   ]
  },
  {
   "cell_type": "code",
   "execution_count": 29,
   "metadata": {},
   "outputs": [],
   "source": [
    "soup = BeautifulSoup(browser.page_source)"
   ]
  },
  {
   "cell_type": "code",
   "execution_count": 65,
   "metadata": {},
   "outputs": [
    {
     "name": "stdout",
     "output_type": "stream",
     "text": [
      "[{'giay_chung_thuc_ca_nhan': 'Chứng minh nhân dân', 'so_giay_chung_thuc_ca_nhan': '112054565', 'ho_ten': 'NGUYỄN THỊ QUYÊN', 'gioi_tinh': 'Nữ', 'ngay_sinh': '1978.08.05'}, {'giay_chung_thuc_ca_nhan': 'Chứng minh nhân dân', 'so_giay_chung_thuc_ca_nhan': '112054565', 'ho_ten': 'NGUYỄN THỊ QUYÊN', 'gioi_tinh': 'Nữ', 'ngay_sinh': '1978.08.05'}]\n"
     ]
    }
   ],
   "source": [
    "result_list = []\n",
    "result_dict = {}\n",
    "\n",
    "trs = soup.find(id='ctl00_C_UC_PERS_LIST1_CtlList').tbody.find_all('tr')\n",
    "for tr in trs[1:]:\n",
    "    tds = tr.find_all('td')\n",
    "    result_dict['giay_chung_thuc_ca_nhan'] = tds[1].a.string\n",
    "    result_dict['so_giay_chung_thuc_ca_nhan'] = tds[2].a.string\n",
    "    result_dict['ho_ten'] = tds[3].a.string\n",
    "    result_dict['gioi_tinh'] = tds[4].a.string\n",
    "    result_dict['ngay_sinh'] = tds[5].a.string\n",
    "    result_list.append(result_dict)\n"
   ]
  },
  {
   "cell_type": "code",
   "execution_count": 153,
   "metadata": {},
   "outputs": [
    {
     "name": "stdout",
     "output_type": "stream",
     "text": [
      "running msdn:  0106687093\n",
      "{'ma_so_doanh_nghiep': '0106687093', 'giay_chung_thuc_ca_nhan': 'Chứng minh nhân dân', 'so_giay_chung_thuc_ca_nhan': '112054565', 'ho_ten': 'NGUYỄN THỊ QUYÊN', 'gioi_tinh': 'Nữ', 'ngay_sinh': '1958.08.05'}\n",
      "{'ma_so_doanh_nghiep': '0106687093', 'giay_chung_thuc_ca_nhan': 'Chứng minh nhân dân', 'so_giay_chung_thuc_ca_nhan': '112054565', 'ho_ten': 'NGUYỄN THỊ QUYÊN', 'gioi_tinh': 'Nữ', 'ngay_sinh': '1978.08.05'}\n",
      "running msdn:  6001537503\n",
      "{'ma_so_doanh_nghiep': '6001537503', 'giay_chung_thuc_ca_nhan': 'Chứng minh nhân dân', 'so_giay_chung_thuc_ca_nhan': '240368593', 'ho_ten': 'NGUYỄN PHƯỚC', 'gioi_tinh': 'Nam', 'ngay_sinh': '1965.11.05'}\n"
     ]
    }
   ],
   "source": [
    "current_location = !pwd\n",
    "chromedriver_location = current_location[0] + '/chromedriver'\n",
    "browser = webdriver.Chrome(chromedriver_location)\n",
    "result_list = []\n",
    "\n",
    "for msdn in list_msdn[:2]:\n",
    "    print('running msdn: ', msdn)\n",
    "    browser.get(url)\n",
    "    \n",
    "    #click on \"vai tro ca nhan\" segment\n",
    "    vai_tro_ca_nhan = browser.find_element_by_xpath('/html/body/form/div[3]/div[2]/div[2]/div[1]/div[2]/div/div[1]/div[4]/div[2]/div/ul/li[3]/a')\n",
    "    vai_tro_ca_nhan.click()\n",
    "    time.sleep(1)\n",
    "    \n",
    "    #find the input field for msdn\n",
    "    input_table = browser.find_elements_by_tag_name('table')[0]\n",
    "    msdn_tr = input_table.find_elements_by_tag_name('tr')[3]\n",
    "    msdn_input = msdn_tr.find_element_by_tag_name('input')\n",
    "    msdn_input.send_keys(msdn)\n",
    "    \n",
    "    #find \"tim kiem\" button\n",
    "    search_btn = browser.find_elements_by_id('ctl00_C_UC_PERS_LIST1_BtnFilter')\n",
    "    search_btn[0].click()\n",
    "    time.sleep(1)\n",
    "    \n",
    "    #make soup with bs4\n",
    "    soup = BeautifulSoup(browser.page_source)\n",
    "    \n",
    "    #find all results row in result\n",
    "    trs = soup.find_all('table')[1].tbody.find_all('tr')\n",
    "    \n",
    "    #loop through each result row and extract information\n",
    "    for tr in trs[1:]:\n",
    "        result_dict = {}\n",
    "        tds = tr.find_all('td')\n",
    "        result_dict['ma_so_doanh_nghiep'] = msdn\n",
    "        result_dict['giay_chung_thuc_ca_nhan'] = tds[1].a.string\n",
    "        result_dict['so_giay_chung_thuc_ca_nhan'] = tds[2].a.string\n",
    "        result_dict['ho_ten'] = tds[3].a.string\n",
    "        result_dict['gioi_tinh'] = tds[4].a.string\n",
    "        result_dict['ngay_sinh'] = tds[5].a.string\n",
    "        result_list.append(result_dict)\n",
    "        print(result_dict)\n",
    "\n",
    "df = pd.DataFrame(result_list)\n",
    "df.to_excel('abc.xlsx')"
   ]
  },
  {
   "cell_type": "code",
   "execution_count": 154,
   "metadata": {},
   "outputs": [
    {
     "name": "stdout",
     "output_type": "stream",
     "text": [
      "/Users/nguyenvietanh/coding/python/personal_work/crawl_thong_tin_doanh_nghiep\r\n"
     ]
    }
   ],
   "source": [
    "!pwd"
   ]
  },
  {
   "cell_type": "code",
   "execution_count": null,
   "metadata": {},
   "outputs": [],
   "source": []
  }
 ],
 "metadata": {
  "kernelspec": {
   "display_name": "Python 3",
   "language": "python",
   "name": "python3"
  },
  "language_info": {
   "codemirror_mode": {
    "name": "ipython",
    "version": 3
   },
   "file_extension": ".py",
   "mimetype": "text/x-python",
   "name": "python",
   "nbconvert_exporter": "python",
   "pygments_lexer": "ipython3",
   "version": "3.7.4"
  }
 },
 "nbformat": 4,
 "nbformat_minor": 4
}
